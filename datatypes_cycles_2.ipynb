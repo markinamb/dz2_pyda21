﻿{
 "cells": [
  {
   "cell_type": "markdown",
   "metadata": {},
   "source": [
    "# Домашнее задание к лекции \"Введение в типы данных и циклы. Часть 2\""
   ]
  },
  {
   "cell_type": "markdown",
   "metadata": {},
   "source": [
    "## Задание 1\n",
    "Дана переменная, в которой хранится словарь, содержащий гео-метки для каждого пользователя (пример структуры данных приведен ниже). Вам необходимо написать программу, которая выведет на экран множество уникальных гео-меток всех пользователей.\n",
    "\n",
    "Пример работы программы:  \n",
    "\n",
    "```\n",
    "ids = {'user1': [213, 213, 213, 15, 213], \n",
    "       'user2': [54, 54, 119, 119, 119], \n",
    "       'user3': [213, 98, 98, 35]}\n",
    "```\n",
    "\n",
    "Результат: \n",
    "`{98, 35, 15, 213, 54, 119}`"
   ]
  },
  {
   "cell_type": "code",
   "execution_count": 20,
   "metadata": {},
   "outputs": [],
   "source": [
    "ids = {'user1': [213, 213, 213, 15, 213], \n",
    "       'user2': [54, 54, 119, 119, 119], \n",
    "       'user3': [213, 98, 98, 35]}"
   ]
  },
  {
   "cell_type": "code",
   "execution_count": 68,
   "metadata": {},
   "outputs": [
    {
     "name": "stdout",
     "output_type": "stream",
     "text": [
      "Результат: {98, 35, 15, 213, 54, 119}\n"
     ]
    }
   ],
   "source": [
    "x=[]\n",
    "for user in ids:\n",
    "    x= x+ ids[user]\n",
    "y= set(x)\n",
    "print('Результат:', y)"
   ]
  },
  {
   "cell_type": "code",
   "execution_count": 64,
   "metadata": {},
   "outputs": [
    {
     "name": "stdout",
     "output_type": "stream",
     "text": [
      "{98, 35, 15, 213, 54, 119}\n"
     ]
    }
   ],
   "source": [
    "x =[]\n",
    "for user,value in ids.items():\n",
    "       x += value\n",
    "print(set(x))\n",
    "        "
   ]
  },
  {
   "cell_type": "markdown",
   "metadata": {},
   "source": [
    "## Задание 2\n",
    "Дана переменная, в которой хранится список поисковых запросов пользователя (пример структуры данных приведен ниже). Вам необходимо написать программу, которая выведет на экран распределение количества слов в запросах в требуемом виде.\n",
    "\n",
    "Пример работы программы:  \n",
    "\n",
    "```\n",
    "queries = [\n",
    "    'смотреть сериалы онлайн',\n",
    "    'новости спорта',\n",
    "    'афиша кино',\n",
    "    'курс доллара',\n",
    "    'сериалы этим летом',\n",
    "    'курс по питону',\n",
    "    'сериалы про спорт',\n",
    "]\n",
    "```\n",
    "\n",
    "Результат: \n",
    "```\n",
    "Поисковых запросов, содержащих 2 слов(а): 42.86%\n",
    "Поисковых запросов, содержащих 3 слов(а): 57.14%\n",
    "```"
   ]
  },
  {
   "cell_type": "code",
   "execution_count": 38,
   "metadata": {},
   "outputs": [],
   "source": [
    "queries = [\n",
    "    'смотреть сериалы онлайн',\n",
    "    'новости спорта',\n",
    "    'афиша кино',\n",
    "    'курс доллара',\n",
    "    'сериалы этим летом',\n",
    "    'курс по питону',\n",
    "    'сериалы про спорт',\n",
    "    'фильм'\n",
    "]"
   ]
  },
  {
   "cell_type": "code",
   "execution_count": 46,
   "metadata": {},
   "outputs": [
    {
     "name": "stdout",
     "output_type": "stream",
     "text": [
      "Поисковых запросов, содержащих 3 слов(а): 57.1 % \n",
      " Поисковых запросов, содержащих 2 слов(а): 42.9 %\n"
     ]
    }
   ],
   "source": [
    "for item in queries:\n",
    "    x=x+1\n",
    "    if len(item.split(' ')) ==3:\n",
    "        x1=x1+1\n",
    "pr1= x1/x*100\n",
    "pr2= 100-pr1\n",
    "print('Поисковых запросов, содержащих 3 слов(а):',round(pr1,1),'% \\n', 'Поисковых запросов, содержащих 2 слов(а):',round(pr2,1),'%')    "
   ]
  },
  {
   "cell_type": "code",
   "execution_count": 42,
   "metadata": {},
   "outputs": [
    {
     "name": "stdout",
     "output_type": "stream",
     "text": [
      "Поисковых запросов, содержащих 3 слова = 50.0 %\n",
      "Поисковых запросов, содержащих 2 слова = 37.5 %\n",
      "Поисковых запросов, содержащих 1 слова = 12.5 %\n"
     ]
    }
   ],
   "source": [
    "queries_conted = {}\n",
    "for item in queries:\n",
    "    queries_conted[len(item.split(' '))] = queries_conted.setdefault(len(item.split(' ')),0)+1 \n",
    "\n",
    "for key in queries_conted.keys():\n",
    "    print('Поисковых запросов, содержащих', key, 'слова =' ,round(queries_conted[key]/len(queries)*100 , 1) ,'%')\n",
    "\n"
   ]
  },
  {
   "cell_type": "markdown",
   "metadata": {},
   "source": [
    "## Задание 3\n",
    "Дана переменная, в которой хранится информация о затратах и доходе рекламных кампаний по различным источникам. Необходимо дополнить исходную структуру показателем [ROI](https://ru.wikipedia.org/wiki/%D0%9E%D0%BA%D1%83%D0%BF%D0%B0%D0%B5%D0%BC%D0%BE%D1%81%D1%82%D1%8C_%D0%B8%D0%BD%D0%B2%D0%B5%D1%81%D1%82%D0%B8%D1%86%D0%B8%D0%B9), который рассчитаем по формуле: **(revenue / cost - 1) * 100**\n",
    "\n",
    "Пример работы программы:  \n",
    "\n",
    "```\n",
    "results = {\n",
    "    'vk': {'revenue': 103, 'cost': 98},\n",
    "    'yandex': {'revenue': 179, 'cost': 153},\n",
    "    'facebook': {'revenue': 103, 'cost': 110},\n",
    "    'adwords': {'revenue': 35, 'cost': 34},\n",
    "    'twitter': {'revenue': 11, 'cost': 24},\n",
    "}\n",
    "```\n",
    "\n",
    "Результат: \n",
    "```\n",
    "{'adwords': {'revenue': 35, 'cost': 34, 'ROI': 2.94},\n",
    " 'facebook': {'revenue': 103, 'cost': 110, 'ROI': -6.36},\n",
    " 'twitter': {'revenue': 11, 'cost': 24, 'ROI': -54.17},\n",
    " 'vk': {'revenue': 103, 'cost': 98, 'ROI': 5.1},\n",
    " 'yandex': {'revenue': 179, 'cost': 153, 'ROI': 16.99}}\n",
    "```"
   ]
  },
  {
   "cell_type": "code",
   "execution_count": 47,
   "metadata": {},
   "outputs": [],
   "source": [
    "results = {\n",
    "    'vk': {'revenue': 103, 'cost': 98},\n",
    "    'yandex': {'revenue': 179, 'cost': 153},\n",
    "    'facebook': {'revenue': 103, 'cost': 110},\n",
    "    'adwords': {'revenue': 35, 'cost': 34},\n",
    "    'twitter': {'revenue': 11, 'cost': 24},\n",
    "}"
   ]
  },
  {
   "cell_type": "code",
   "execution_count": 80,
   "metadata": {},
   "outputs": [
    {
     "name": "stdout",
     "output_type": "stream",
     "text": [
      "Результат:\n",
      "vk {'revenue': 103, 'cost': 98, 'ROI': 5.1}\n",
      "yandex {'revenue': 179, 'cost': 153, 'ROI': 16.99}\n",
      "facebook {'revenue': 103, 'cost': 110, 'ROI': -6.36}\n",
      "adwords {'revenue': 35, 'cost': 34, 'ROI': 2.94}\n",
      "twitter {'revenue': 11, 'cost': 24, 'ROI': -54.17}\n"
     ]
    }
   ],
   "source": [
    "print('Результат:')\n",
    "for key, value in results.items():\n",
    "    ROI= (value['revenue'] / value['cost']-1)*100\n",
    "    value['ROI']= round(ROI,2)\n",
    "    print(key,value) "
   ]
  },
  {
   "cell_type": "markdown",
   "metadata": {},
   "source": [
    "## Задание 4\n",
    "Дана переменная, в которой хранится статистика рекламных каналов по объемам продаж (пример структуры данных приведен ниже). Напишите программу, которая возвращает название канала с максимальным объемом продаж.\n",
    "\n",
    "Пример работы программы:  \n",
    "\n",
    "`stats = {'facebook': 55, 'yandex': 115, 'vk': 120, 'google': 99, 'email': 42, 'ok': 98}`\n",
    "\n",
    "Результат: \n",
    "`Максимальный объем продаж на рекламном канале: vk`"
   ]
  },
  {
   "cell_type": "code",
   "execution_count": 81,
   "metadata": {},
   "outputs": [],
   "source": [
    "stats = {'facebook': 55, 'yandex': 115, 'vk': 120, 'google': 99, 'email': 42, 'ok': 98}"
   ]
  },
  {
   "cell_type": "code",
   "execution_count": 96,
   "metadata": {},
   "outputs": [
    {
     "name": "stdout",
     "output_type": "stream",
     "text": [
      "Максимальный объем продаж на рекламном канале: vk\n"
     ]
    }
   ],
   "source": [
    "for key, value in stats.items():\n",
    "    if value==max(stats.values()):\n",
    "        print('Максимальный объем продаж на рекламном канале:',key) "
   ]
  }
 ],
 "metadata": {
  "kernelspec": {
   "display_name": "Python 3",
   "language": "python",
   "name": "python3"
  },
  "language_info": {
   "codemirror_mode": {
    "name": "ipython",
    "version": 3
   },
   "file_extension": ".py",
   "mimetype": "text/x-python",
   "name": "python",
   "nbconvert_exporter": "python",
   "pygments_lexer": "ipython3",
   "version": "3.8.5"
  }
 },
 "nbformat": 4,
 "nbformat_minor": 2
}